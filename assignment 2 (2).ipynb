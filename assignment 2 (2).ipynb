{
  "nbformat": 4,
  "nbformat_minor": 0,
  "metadata": {
    "colab": {
      "provenance": []
    },
    "kernelspec": {
      "name": "python3",
      "display_name": "Python 3"
    },
    "language_info": {
      "name": "python"
    }
  },
  "cells": [
    {
      "cell_type": "markdown",
      "source": [
        "assignment 2"
      ],
      "metadata": {
        "id": "P0dSMN82qZyO"
      }
    },
    {
      "cell_type": "markdown",
      "source": [
        "pass or fail"
      ],
      "metadata": {
        "id": "vErQIVzEqeak"
      }
    },
    {
      "cell_type": "code",
      "source": [
        "student_results = {\n",
        "    'ram': {'Math': 85, 'Science': 92, 'History': 78},\n",
        "    'Bob': {'Math': 72, 'Science': 88, 'History': 95},\n",
        "    'sham': {'Math': 95, 'Science': 85, 'History': 70}\n",
        "}\n",
        "student_name = input(\"Enter student's name: \")\n",
        "if student_name in student_results:\n",
        "    results = student_results[student_name]\n",
        "    print(f\"Results for {student_name}:\")\n",
        "    for subject, score in results.items():\n",
        "        print(f\"{subject}: {score}\")\n",
        "else:\n",
        "    print(f\"No results found for {student_name}.\")\n"
      ],
      "metadata": {
        "id": "PAbaPr7vzXRQ",
        "colab": {
          "base_uri": "https://localhost:8080/"
        },
        "outputId": "a33abdef-06f7-4a21-9999-a552df174268"
      },
      "execution_count": 38,
      "outputs": [
        {
          "output_type": "stream",
          "name": "stdout",
          "text": [
            "Enter student's name: ram\n",
            "Results for ram:\n",
            "Math: 85\n",
            "Science: 92\n",
            "History: 78\n"
          ]
        }
      ]
    },
    {
      "cell_type": "code",
      "source": [],
      "metadata": {
        "id": "RmymCo3D1Pfq"
      },
      "execution_count": null,
      "outputs": []
    },
    {
      "cell_type": "markdown",
      "source": [
        "password verification"
      ],
      "metadata": {
        "id": "R9j3Y80L1RQY"
      }
    },
    {
      "cell_type": "code",
      "source": [
        "registered_users = {'alice', 'bob', 'charlie'}\n",
        "user_credentials = {'alice': '1234', 'bob': '5678', 'charlie': '9012'}\n",
        "username = input(\"Enter your username: \")\n",
        "password = input(\"Enter your password: \")\n",
        "if username in registered_users:\n",
        "    if user_credentials[username] == password:\n",
        "        print(\"Authentication successful. Welcome back!\")\n",
        "    else:\n",
        "        print(\"Incorrect password. Authentication failed.\")\n",
        "else:\n",
        "    print(\"Username not found. Authentication failed.\")\n"
      ],
      "metadata": {
        "colab": {
          "base_uri": "https://localhost:8080/"
        },
        "id": "KjwdHJ071TiL",
        "outputId": "7b07ee16-32ca-4ea0-cbab-98a65e3d0a66"
      },
      "execution_count": 31,
      "outputs": [
        {
          "output_type": "stream",
          "name": "stdout",
          "text": [
            "Enter your username: alice\n",
            "Enter your password: 1234\n",
            "Authentication successful. Welcome back!\n"
          ]
        }
      ]
    },
    {
      "cell_type": "code",
      "source": [],
      "metadata": {
        "id": "yGlLtvVX16AK"
      },
      "execution_count": null,
      "outputs": []
    },
    {
      "cell_type": "markdown",
      "source": [
        "temp monitoring"
      ],
      "metadata": {
        "id": "mJvgjHL92Wey"
      }
    },
    {
      "cell_type": "code",
      "source": [
        "threshold_temperature = 25.0\n",
        "\n",
        "latest_temperature = float(input(\"Enter the latest temperature: \"))\n",
        "\n",
        "if latest_temperature > threshold_temperature:\n",
        "    print(\"Alert: Temperature is above the threshold!\")\n",
        "else:\n",
        "    print(\"Temperature is within the safe range.\")\n"
      ],
      "metadata": {
        "colab": {
          "base_uri": "https://localhost:8080/"
        },
        "id": "UEf467lW2X0A",
        "outputId": "7d05460b-5040-4cee-a10d-2d598fe2e084"
      },
      "execution_count": 35,
      "outputs": [
        {
          "output_type": "stream",
          "name": "stdout",
          "text": [
            "Enter the latest temperature: 45\n",
            "Alert: Temperature is above the threshold!\n"
          ]
        }
      ]
    },
    {
      "cell_type": "markdown",
      "source": [
        "divisibility by 3 and 2"
      ],
      "metadata": {
        "id": "b2N7W7Jg27CR"
      }
    },
    {
      "cell_type": "code",
      "source": [
        "divisible_by_3 = []\n",
        "even_numbers = set()\n",
        "\n",
        "for number in range(1, 101):\n",
        "    if number % 3 == 0:\n",
        "        divisible_by_3.append(number)\n",
        "    if number % 2 == 0:\n",
        "        even_numbers.add(number)\n",
        "\n",
        "print(\"Numbers divisible by 3:\", divisible_by_3)\n",
        "print(\"Even numbers:\", even_numbers)\n"
      ],
      "metadata": {
        "colab": {
          "base_uri": "https://localhost:8080/"
        },
        "id": "BM8VxOqm2aee",
        "outputId": "d78a6252-aad2-40fb-d6e0-24f69d84376a"
      },
      "execution_count": 36,
      "outputs": [
        {
          "output_type": "stream",
          "name": "stdout",
          "text": [
            "Numbers divisible by 3: [3, 6, 9, 12, 15, 18, 21, 24, 27, 30, 33, 36, 39, 42, 45, 48, 51, 54, 57, 60, 63, 66, 69, 72, 75, 78, 81, 84, 87, 90, 93, 96, 99]\n",
            "Even numbers: {2, 4, 6, 8, 10, 12, 14, 16, 18, 20, 22, 24, 26, 28, 30, 32, 34, 36, 38, 40, 42, 44, 46, 48, 50, 52, 54, 56, 58, 60, 62, 64, 66, 68, 70, 72, 74, 76, 78, 80, 82, 84, 86, 88, 90, 92, 94, 96, 98, 100}\n"
          ]
        }
      ]
    },
    {
      "cell_type": "markdown",
      "source": [
        "grading system"
      ],
      "metadata": {
        "id": "7iCHvZa33QA4"
      }
    },
    {
      "cell_type": "code",
      "source": [
        "student_scores = {'Alice': 85, 'Bob': 70, 'Charlie': 92}\n",
        "\n",
        "for student, score in student_scores.items():\n",
        "    if score >= 90:\n",
        "        grade = 'A'\n",
        "    elif score >= 80:\n",
        "        grade = 'B'\n",
        "    elif score >= 70:\n",
        "        grade = 'C'\n",
        "    else:\n",
        "        grade = 'F'\n",
        "\n",
        "    print(f\"{student} scored {score} and received a grade {grade}.\")\n"
      ],
      "metadata": {
        "colab": {
          "base_uri": "https://localhost:8080/"
        },
        "id": "aJdJDtFH2yg2",
        "outputId": "89c6af7d-21a1-496b-fc53-3bad4e0899f6"
      },
      "execution_count": 37,
      "outputs": [
        {
          "output_type": "stream",
          "name": "stdout",
          "text": [
            "Alice scored 85 and received a grade B.\n",
            "Bob scored 70 and received a grade C.\n",
            "Charlie scored 92 and received a grade A.\n"
          ]
        }
      ]
    },
    {
      "cell_type": "code",
      "source": [],
      "metadata": {
        "id": "2tgcD50f3MPL"
      },
      "execution_count": null,
      "outputs": []
    }
  ]
}