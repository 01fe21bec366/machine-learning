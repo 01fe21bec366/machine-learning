{
  "nbformat": 4,
  "nbformat_minor": 0,
  "metadata": {
    "colab": {
      "provenance": []
    },
    "kernelspec": {
      "name": "python3",
      "display_name": "Python 3"
    },
    "language_info": {
      "name": "python"
    }
  },
  "cells": [
    {
      "cell_type": "markdown",
      "source": [
        "assignment 2"
      ],
      "metadata": {
        "id": "P0dSMN82qZyO"
      }
    },
    {
      "cell_type": "markdown",
      "source": [],
      "metadata": {
        "id": "Ak2FM4vAJM2d"
      }
    },
    {
      "cell_type": "markdown",
      "source": [],
      "metadata": {
        "id": "u7OOb8Q4JOda"
      }
    },
    {
      "cell_type": "markdown",
      "source": [
        "pass or fail"
      ],
      "metadata": {
        "id": "vErQIVzEqeak"
      }
    },
    {
      "cell_type": "code",
      "source": [
        "ram="
      ],
      "metadata": {
        "id": "PAbaPr7vzXRQ",
        "colab": {
          "base_uri": "https://localhost:8080/"
        },
        "outputId": "37caf3bb-9048-402c-9231-6b3e3b728cbd"
      },
      "execution_count": null,
      "outputs": [
        {
          "output_type": "stream",
          "name": "stdout",
          "text": [
            "Enter student's name: ram\n",
            "Results for ram:\n",
            "Math: 85\n",
            "Science: 92\n",
            "History: 78\n"
          ]
        }
      ]
    },
    {
      "cell_type": "code",
      "source": [
        "\n"
      ],
      "metadata": {
        "id": "RmymCo3D1Pfq"
      },
      "execution_count": null,
      "outputs": []
    },
    {
      "cell_type": "markdown",
      "source": [
        "password verification"
      ],
      "metadata": {
        "id": "R9j3Y80L1RQY"
      }
    },
    {
      "cell_type": "code",
      "source": [
        "registered_users = {'alice', 'bob', 'charlie'}\n",
        "user_credentials = {'alice': '1234', 'bob': '5678', 'charlie': '9012'}\n",
        "username = input(\"Enter your username: \")\n",
        "password = input(\"Enter your password: \")\n",
        "if username in registered_users:\n",
        "    if user_credentials[username] == password:\n",
        "        print(\"Authentication successful. Welcome back!\")\n",
        "    else:\n",
        "        print(\"Incorrect password. Authentication failed.\")\n",
        "else:\n",
        "    print(\"Username not found. Authentication failed.\")\n"
      ],
      "metadata": {
        "colab": {
          "base_uri": "https://localhost:8080/"
        },
        "id": "KjwdHJ071TiL",
        "outputId": "45d190d7-e5e5-44df-b7a8-1f3a79b2d892"
      },
      "execution_count": null,
      "outputs": [
        {
          "output_type": "stream",
          "name": "stdout",
          "text": [
            "Enter your username: alice\n",
            "Enter your password: 1234\n",
            "Authentication successful. Welcome back!\n"
          ]
        }
      ]
    },
    {
      "cell_type": "code",
      "source": [],
      "metadata": {
        "id": "yGlLtvVX16AK"
      },
      "execution_count": null,
      "outputs": []
    },
    {
      "cell_type": "markdown",
      "source": [
        "temp monitoring"
      ],
      "metadata": {
        "id": "mJvgjHL92Wey"
      }
    },
    {
      "cell_type": "code",
      "source": [
        "threshold_temperature = 25.0\n",
        "\n",
        "latest_temperature = float(input(\"Enter the latest temperature: \"))\n",
        "\n",
        "if latest_temperature > threshold_temperature:\n",
        "    print(\"Alert: Temperature is above the threshold!\")\n",
        "else:\n",
        "    print(\"Temperature is within the safe range.\")\n"
      ],
      "metadata": {
        "colab": {
          "base_uri": "https://localhost:8080/"
        },
        "id": "UEf467lW2X0A",
        "outputId": "7d05460b-5040-4cee-a10d-2d598fe2e084"
      },
      "execution_count": null,
      "outputs": [
        {
          "output_type": "stream",
          "name": "stdout",
          "text": [
            "Enter the latest temperature: 45\n",
            "Alert: Temperature is above the threshold!\n"
          ]
        }
      ]
    },
    {
      "cell_type": "markdown",
      "source": [
        "divisibility by 3 and 2"
      ],
      "metadata": {
        "id": "b2N7W7Jg27CR"
      }
    },
    {
      "cell_type": "code",
      "source": [
        "divisible_by_3 = []\n",
        "even_numbers = set()\n",
        "\n",
        "for number in range(1, 101):\n",
        "    if number % 3 == 0:\n",
        "        divisible_by_3.append(number)\n",
        "    if number % 2 == 0:\n",
        "        even_numbers.add(number)\n",
        "\n",
        "print(\"Numbers divisible by 3:\", divisible_by_3)\n",
        "print(\"Even numbers:\", even_numbers)\n"
      ],
      "metadata": {
        "colab": {
          "base_uri": "https://localhost:8080/"
        },
        "id": "BM8VxOqm2aee",
        "outputId": "d78a6252-aad2-40fb-d6e0-24f69d84376a"
      },
      "execution_count": null,
      "outputs": [
        {
          "output_type": "stream",
          "name": "stdout",
          "text": [
            "Numbers divisible by 3: [3, 6, 9, 12, 15, 18, 21, 24, 27, 30, 33, 36, 39, 42, 45, 48, 51, 54, 57, 60, 63, 66, 69, 72, 75, 78, 81, 84, 87, 90, 93, 96, 99]\n",
            "Even numbers: {2, 4, 6, 8, 10, 12, 14, 16, 18, 20, 22, 24, 26, 28, 30, 32, 34, 36, 38, 40, 42, 44, 46, 48, 50, 52, 54, 56, 58, 60, 62, 64, 66, 68, 70, 72, 74, 76, 78, 80, 82, 84, 86, 88, 90, 92, 94, 96, 98, 100}\n"
          ]
        }
      ]
    },
    {
      "cell_type": "markdown",
      "source": [
        "grading system"
      ],
      "metadata": {
        "id": "7iCHvZa33QA4"
      }
    },
    {
      "cell_type": "code",
      "source": [
        "student_scores = {'Alice': 85, 'Bob': 70, 'Charlie': 92}\n",
        "\n",
        "for student, score in student_scores.items():\n",
        "    if score >= 90:\n",
        "        grade = 'A'\n",
        "    elif score >= 80:\n",
        "        grade = 'B'\n",
        "    elif score >= 70:\n",
        "        grade = 'C'\n",
        "    else:\n",
        "        grade = 'F'\n",
        "\n",
        "    print(f\"{student} scored {score} and received a grade {grade}.\")\n"
      ],
      "metadata": {
        "colab": {
          "base_uri": "https://localhost:8080/"
        },
        "id": "aJdJDtFH2yg2",
        "outputId": "89c6af7d-21a1-496b-fc53-3bad4e0899f6"
      },
      "execution_count": null,
      "outputs": [
        {
          "output_type": "stream",
          "name": "stdout",
          "text": [
            "Alice scored 85 and received a grade B.\n",
            "Bob scored 70 and received a grade C.\n",
            "Charlie scored 92 and received a grade A.\n"
          ]
        }
      ]
    },
    {
      "cell_type": "code",
      "source": [
        "a=int(input(\"enter the nos\"))\n",
        "while a<=9:\n",
        " print(\"number is single digit\")\n",
        " break\n",
        "while a>9 and a<99:\n",
        " print(\"number is double digit\")\n",
        " break\n",
        "else:\n",
        "  print(\"no. has more than 2 digit\")\n",
        "\n"
      ],
      "metadata": {
        "id": "2tgcD50f3MPL",
        "colab": {
          "base_uri": "https://localhost:8080/"
        },
        "outputId": "b99165b6-4c65-4981-a9a1-aa3bc1dd52e4"
      },
      "execution_count": null,
      "outputs": [
        {
          "output_type": "stream",
          "name": "stdout",
          "text": [
            "enter the nos34\n",
            "number is double digit\n"
          ]
        }
      ]
    },
    {
      "cell_type": "code",
      "source": [
        "for x in range(5,9):\n",
        "  print(\"me\")"
      ],
      "metadata": {
        "colab": {
          "base_uri": "https://localhost:8080/"
        },
        "id": "Y-QcpK1CwNS_",
        "outputId": "4c3fb380-271a-46bd-b585-6aa88d2efab7"
      },
      "execution_count": null,
      "outputs": [
        {
          "output_type": "stream",
          "name": "stdout",
          "text": [
            "me\n",
            "me\n",
            "me\n",
            "me\n"
          ]
        }
      ]
    },
    {
      "cell_type": "code",
      "source": [
        "for x in range(1,23,3):\n",
        "  print(\"hi\")"
      ],
      "metadata": {
        "colab": {
          "base_uri": "https://localhost:8080/"
        },
        "id": "5-rgkoaIyJSk",
        "outputId": "892ac5a3-bcce-42a0-e838-fa955213d7cb"
      },
      "execution_count": null,
      "outputs": [
        {
          "output_type": "stream",
          "name": "stdout",
          "text": [
            "hi\n",
            "hi\n",
            "hi\n",
            "hi\n",
            "hi\n",
            "hi\n",
            "hi\n",
            "hi\n"
          ]
        }
      ]
    },
    {
      "cell_type": "code",
      "source": [
        "for x in range(1,23,3):\n",
        "  print(x)"
      ],
      "metadata": {
        "colab": {
          "base_uri": "https://localhost:8080/"
        },
        "id": "VWZS8EhZySSd",
        "outputId": "7f121658-c7ea-4e11-ece4-b4949da309c7"
      },
      "execution_count": null,
      "outputs": [
        {
          "output_type": "stream",
          "name": "stdout",
          "text": [
            "1\n",
            "4\n",
            "7\n",
            "10\n",
            "13\n",
            "16\n",
            "19\n",
            "22\n"
          ]
        }
      ]
    },
    {
      "cell_type": "code",
      "source": [
        "places=[\"hubli\",\"haveri\",{mm}]"
      ],
      "metadata": {
        "id": "mDaZV1RuyXmP"
      },
      "execution_count": null,
      "outputs": []
    },
    {
      "cell_type": "markdown",
      "source": [
        "31st video\n",
        "function:\n",
        "a set of line/block of code will be executed only when it is called"
      ],
      "metadata": {
        "id": "RMRHTMXLJQDT"
      }
    },
    {
      "cell_type": "markdown",
      "source": [
        "functions\n",
        "1.define function\n",
        "2.invoking function\n",
        "3.passing the arguments"
      ],
      "metadata": {
        "id": "Js05ekv0wkNo"
      }
    },
    {
      "cell_type": "code",
      "source": [
        "def cake_baker(p,f,s):\n",
        "  print(\"no. of pieces=\",p)\n",
        "  print(\"flavour is=\",f)\n",
        "  print(\"size is=\",s)\n",
        "cake_baker(\"5\",\"choc\",\"2kg\")\n",
        "cake_baker(\"100\",\"vanilla\",\"3kg\")"
      ],
      "metadata": {
        "id": "PXqIgPfSJQ0x",
        "colab": {
          "base_uri": "https://localhost:8080/"
        },
        "outputId": "94ef6236-721c-4fbb-c40b-f590d9c74eb2"
      },
      "execution_count": 6,
      "outputs": [
        {
          "output_type": "stream",
          "name": "stdout",
          "text": [
            "no. of pieces= 5\n",
            "flavour is= choc\n",
            "size is= 2kg\n",
            "no. of pieces= 100\n",
            "flavour is= vanilla\n",
            "size is= 3kg\n"
          ]
        }
      ]
    },
    {
      "cell_type": "markdown",
      "source": [
        "introduction to fucntions,modules and pakages\n",
        "\n",
        "1.   modules-math,time,random,date/time,os we use import\n",
        "2. packages-numpy,pandas.....\n",
        "\n"
      ],
      "metadata": {
        "id": "DeIOAcHGyIGv"
      }
    },
    {
      "cell_type": "markdown",
      "source": [
        "args or any other word with * is uded to define any number of inputs to the function"
      ],
      "metadata": {
        "id": "nGnsu64Q0SSP"
      }
    },
    {
      "cell_type": "code",
      "source": [
        "def add(*spoo):\n",
        "  sum=0\n",
        "  for i in spoo:\n",
        "    sum+=i\n",
        "  return sum\n",
        "print(add(1,2,3))"
      ],
      "metadata": {
        "colab": {
          "base_uri": "https://localhost:8080/"
        },
        "id": "WisTsvIUw4Vi",
        "outputId": "91a48ae8-f921-48a5-ccb7-b17fd87f20be"
      },
      "execution_count": 13,
      "outputs": [
        {
          "output_type": "stream",
          "name": "stdout",
          "text": [
            "6\n"
          ]
        }
      ]
    },
    {
      "cell_type": "markdown",
      "source": [
        "if the input is in the form of key values we use kwargs"
      ],
      "metadata": {
        "id": "aFI94dfH1ovV"
      }
    },
    {
      "cell_type": "code",
      "source": [
        "def greet(**kwargs):\n",
        "  print(\"hello\")\n",
        "  for key,value in kwargs.items():\n",
        "    print(value)\n",
        "greet(name=\"spoo\",usn=\"01fe21bec366\",branch=\"ECE\")"
      ],
      "metadata": {
        "colab": {
          "base_uri": "https://localhost:8080/"
        },
        "id": "0lhAgZy5z2a0",
        "outputId": "46b8f53f-88ff-4302-f9cc-127e5f9d3b71"
      },
      "execution_count": 14,
      "outputs": [
        {
          "output_type": "stream",
          "name": "stdout",
          "text": [
            "hello\n",
            "spoo\n",
            "01fe21bec366\n",
            "ECE\n"
          ]
        }
      ]
    },
    {
      "cell_type": "markdown",
      "source": [
        "if you want the output in same line"
      ],
      "metadata": {
        "id": "b-PVFOQt3TBp"
      }
    },
    {
      "cell_type": "code",
      "source": [
        "def greet(**kwargs):\n",
        "  print(\"hello\")\n",
        "  for key,value in kwargs.items():\n",
        "    print(value,end=\" \")\n",
        "greet(name=\"spoo\",usn=\"01fe21bec366\",branch=\"ECE\")"
      ],
      "metadata": {
        "colab": {
          "base_uri": "https://localhost:8080/"
        },
        "id": "OPRLGa-w3I1s",
        "outputId": "f586e05c-43cf-4bea-e165-379c9bf398a1"
      },
      "execution_count": 15,
      "outputs": [
        {
          "output_type": "stream",
          "name": "stdout",
          "text": [
            "hello\n",
            "spoo 01fe21bec366 ECE "
          ]
        }
      ]
    },
    {
      "cell_type": "markdown",
      "source": [
        "random\n",
        "we use import"
      ],
      "metadata": {
        "id": "v5M_R2ov3nzD"
      }
    },
    {
      "cell_type": "code",
      "source": [
        "import random\n",
        "x=random.randint(1,9)\n",
        "print(x)"
      ],
      "metadata": {
        "colab": {
          "base_uri": "https://localhost:8080/"
        },
        "id": "AW0pkwQm3b7X",
        "outputId": "8b6f5f78-2049-45f3-90a0-08ae411a1d3a"
      },
      "execution_count": 16,
      "outputs": [
        {
          "output_type": "stream",
          "name": "stdout",
          "text": [
            "7\n"
          ]
        }
      ]
    },
    {
      "cell_type": "markdown",
      "source": [
        "if we want floating numbers"
      ],
      "metadata": {
        "id": "N2VDg6_W33Uv"
      }
    },
    {
      "cell_type": "code",
      "source": [
        "import random\n",
        "x=random.random()\n",
        "print(x)"
      ],
      "metadata": {
        "colab": {
          "base_uri": "https://localhost:8080/"
        },
        "id": "tlDZPlf63ysP",
        "outputId": "88d04f52-1611-4ece-db5f-a15f56ecc708"
      },
      "execution_count": 18,
      "outputs": [
        {
          "output_type": "stream",
          "name": "stdout",
          "text": [
            "0.4113860995566043\n"
          ]
        }
      ]
    },
    {
      "cell_type": "markdown",
      "source": [
        "lottery game"
      ],
      "metadata": {
        "id": "mk4pf-6W4Ki7"
      }
    },
    {
      "cell_type": "code",
      "source": [
        "\n",
        "import random\n",
        "computer=random.randint(1,9)\n",
        "userinput=int(input(\"enter the number btw 1 and 9\"))\n",
        "print(computer)\n",
        "print(userinput)\n",
        "if computer>userinput:\n",
        "  print(\"computer won\")\n",
        "elif computer==userinput:\n",
        "  print(\"TIE\")\n",
        "else:\n",
        "    print(\"you won\")\n"
      ],
      "metadata": {
        "colab": {
          "base_uri": "https://localhost:8080/"
        },
        "id": "mRD0oaD83-52",
        "outputId": "dec91667-88fc-4fa6-b924-4979352e7ac1"
      },
      "execution_count": 21,
      "outputs": [
        {
          "output_type": "stream",
          "name": "stdout",
          "text": [
            "enter the number btw 1 and 95\n",
            "7\n",
            "5\n",
            "computer won\n"
          ]
        }
      ]
    },
    {
      "cell_type": "markdown",
      "source": [
        "TASK:do this lottery game 10 times after 10 times declare who won"
      ],
      "metadata": {
        "id": "t3w8LNfG5SHT"
      }
    },
    {
      "cell_type": "markdown",
      "source": [
        "rock paper scissors"
      ],
      "metadata": {
        "id": "yX7yvJQa5e4u"
      }
    },
    {
      "cell_type": "code",
      "source": [
        "import random\n",
        "gamelist=['rock','paper','scissors']\n",
        "comp=random.choice(gamelist)\n",
        "user=input(\"either rok or paper or scissors  \")\n",
        "print(comp)\n",
        "print(user)\n",
        "if (comp==\"rock\" and user==\"paper\"):\n",
        "  print(\"you won\")\n",
        "elif(comp==\"paper\" and user==\"scissors\"):\n",
        "  print(\"you win\")\n",
        "elif(comp==\"paper\" and user==\"rock\"):\n",
        "  print(\"comp win\")\n",
        "elif(comp==\"scissors\" and user==\"paper\"):\n",
        "  print(\"comp win\")\n",
        "elif(comp==\"rock\" and user==\"scissors\"):\n",
        "  print(\"comp win\")\n",
        "else:\n",
        "  print(\"TIE\")\n"
      ],
      "metadata": {
        "colab": {
          "base_uri": "https://localhost:8080/"
        },
        "id": "zFAHLUuw46ZZ",
        "outputId": "9eea536c-e6db-4661-f708-b9d7053bbc82"
      },
      "execution_count": 27,
      "outputs": [
        {
          "output_type": "stream",
          "name": "stdout",
          "text": [
            "either rok or paper or scissors  rock\n",
            "rock\n",
            "rock\n",
            "TIE\n"
          ]
        }
      ]
    },
    {
      "cell_type": "markdown",
      "source": [
        "NumPy-numerical python- is a package or a python library .....\n",
        "\n",
        "1.   numpy doesnt support non homogenous dat such as char int ...\n",
        "2.   List does support\n",
        "but by using numpy we can do it faster than list\n",
        "\n"
      ],
      "metadata": {
        "id": "uhkmVojh7e2u"
      }
    },
    {
      "cell_type": "code",
      "source": [
        "import numpy as np"
      ],
      "metadata": {
        "id": "ZXcNQNbU6LDG"
      },
      "execution_count": 28,
      "outputs": []
    },
    {
      "cell_type": "code",
      "source": [
        "a=np.array([35,1,34,35,67,89])\n",
        "print(type(a))\n",
        "b=np.zeros(3)\n",
        "c=np.ones(4)\n",
        "print(b)\n",
        "print(c)"
      ],
      "metadata": {
        "colab": {
          "base_uri": "https://localhost:8080/"
        },
        "id": "hT93h40i8cCr",
        "outputId": "6faf9b78-ebf2-41b7-9109-d479213ad4a1"
      },
      "execution_count": 30,
      "outputs": [
        {
          "output_type": "stream",
          "name": "stdout",
          "text": [
            "<class 'numpy.ndarray'>\n",
            "[0. 0. 0.]\n",
            "[1. 1. 1. 1.]\n"
          ]
        }
      ]
    },
    {
      "cell_type": "markdown",
      "source": [
        "nd meand n dimensions\n",
        "\n",
        "1.  to sort an array\n",
        "\n",
        "\n"
      ],
      "metadata": {
        "id": "_gmemgFK9Vn4"
      }
    },
    {
      "cell_type": "code",
      "source": [
        "a=np.array([35,1,34,35,67,89])\n",
        "print(type(a))\n",
        "b=np.zeros(3)\n",
        "c=np.ones(4)\n",
        "print(b)\n",
        "print(c)\n",
        "d=np.sort(a)\n",
        "print(d)"
      ],
      "metadata": {
        "colab": {
          "base_uri": "https://localhost:8080/"
        },
        "id": "UaUnaxpA8vbQ",
        "outputId": "39a5611d-277e-4b2d-9346-a9a9de012b74"
      },
      "execution_count": 31,
      "outputs": [
        {
          "output_type": "stream",
          "name": "stdout",
          "text": [
            "<class 'numpy.ndarray'>\n",
            "[0. 0. 0.]\n",
            "[1. 1. 1. 1.]\n",
            "[ 1 34 35 35 67 89]\n"
          ]
        }
      ]
    },
    {
      "cell_type": "markdown",
      "source": [
        "matplotlib"
      ],
      "metadata": {
        "id": "uMXE7nxh_Ykk"
      }
    },
    {
      "cell_type": "code",
      "source": [
        "import matplotlib\n",
        "print(matplotlib.__version__)"
      ],
      "metadata": {
        "colab": {
          "base_uri": "https://localhost:8080/"
        },
        "id": "aIKGXwXh9rRd",
        "outputId": "e5d3cee1-79bf-4d02-f721-c34fc4deb0f0"
      },
      "execution_count": 33,
      "outputs": [
        {
          "output_type": "stream",
          "name": "stdout",
          "text": [
            "3.7.1\n"
          ]
        }
      ]
    },
    {
      "cell_type": "code",
      "source": [
        "import matplotlib.pyplot as plt\n",
        "import numpy as np\n",
        "\n",
        "x=np.linspace(0,1,10)\n",
        "m=25\n",
        "c=250\n",
        "y=m*x+c\n",
        "plt.plot(x,y)\n",
        "plt.show()"
      ],
      "metadata": {
        "colab": {
          "base_uri": "https://localhost:8080/",
          "height": 430
        },
        "id": "1O4VUjSe_nS8",
        "outputId": "f3ea279b-c86a-4484-8213-b6d0297711ee"
      },
      "execution_count": 36,
      "outputs": [
        {
          "output_type": "display_data",
          "data": {
            "text/plain": [
              "<Figure size 640x480 with 1 Axes>"
            ],
            "image/png": "[encoded data removed]"
          },
          "metadata": {}
        }
      ]
    },
    {
      "cell_type": "code",
      "source": [
        "import matplotlib.pyplot as plt\n",
        "import numpy as np\n",
        "x=np.linspace(0,1,10)\n",
        "y=np.sin(2*x)\n",
        "fig,a=plt.subplots()\n",
        "a.plot(x, y, linewidth=2.0)\n",
        "a.set (xlim=(0,8), xticks=np.arange(1,8),\n",
        "      ylim=(0,8), yticks=np.arange(1,8))\n",
        "plt.show()"
      ],
      "metadata": {
        "colab": {
          "base_uri": "https://localhost:8080/",
          "height": 430
        },
        "id": "w5qWRBhxAc2u",
        "outputId": "b728c8f3-76a4-4727-f529-82a3f3aec603"
      },
      "execution_count": 49,
      "outputs": [
        {
          "output_type": "display_data",
          "data": {
            "text/plain": [
              "<Figure size 640x480 with 1 Axes>"
            ],
            "image/png": "[encoded data removed]"
          },
          "metadata": {}
        }
      ]
    },
    {
      "cell_type": "code",
      "source": [
        "import matplotlib.pyplot as plt\n",
        "import numpy as np\n",
        "x=np.linspace(0,1,10)\n",
        "y=6+3*np.sin(2*x)\n",
        "fig,a=plt.subplots()\n",
        "a.plot(x, y, linewidth=2.0)\n",
        "a.set (xlim=(0,8), xticks=np.arange(1,8),\n",
        "      ylim=(0,8), yticks=np.arange(1,8))\n",
        "plt.show()"
      ],
      "metadata": {
        "id": "x-RJFjfuCjkk"
      },
      "execution_count": null,
      "outputs": []
    },
    {
      "cell_type": "code",
      "source": [
        "import matplotlib.pyplot as plt\n",
        "import numpy as np\n",
        "x=np.linspace(0,10,100)\n",
        "y=6+3*np.sin(2*x)\n",
        "fig,a=plt.subplots()\n",
        "a.plot(x, y, linewidth=2.0)\n",
        "a.set (xlim=(0,8), xticks=np.arange(1,8),\n",
        "      ylim=(0,8), yticks=np.arange(1,8))\n",
        "plt.show()"
      ],
      "metadata": {
        "id": "xXMcr8tkExdM"
      },
      "execution_count": null,
      "outputs": []
    },
    {
      "cell_type": "code",
      "source": [],
      "metadata": {
        "id": "64sHNA3hE0gn"
      },
      "execution_count": null,
      "outputs": []
    }
  ]
}