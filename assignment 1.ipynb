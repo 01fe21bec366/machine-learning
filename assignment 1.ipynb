{
  "nbformat": 4,
  "nbformat_minor": 0,
  "metadata": {
    "colab": {
      "provenance": []
    },
    "kernelspec": {
      "name": "python3",
      "display_name": "Python 3"
    },
    "language_info": {
      "name": "python"
    }
  },
  "cells": [
    {
      "cell_type": "code",
      "execution_count": null,
      "metadata": {
        "id": "bmKLY0VCSgVA"
      },
      "outputs": [],
      "source": []
    },
    {
      "cell_type": "markdown",
      "source": [
        "# **my first program**\n"
      ],
      "metadata": {
        "id": "WZl2bXhDS-6o"
      }
    },
    {
      "cell_type": "code",
      "source": [
        "print(\"i am spoorti\")"
      ],
      "metadata": {
        "colab": {
          "base_uri": "https://localhost:8080/"
        },
        "id": "hnyaxSPRTMVZ",
        "outputId": "8adfc155-42cc-4d55-fef1-4acc06895549"
      },
      "execution_count": null,
      "outputs": [
        {
          "output_type": "stream",
          "name": "stdout",
          "text": [
            "i am spoorti\n"
          ]
        }
      ]
    },
    {
      "cell_type": "code",
      "source": [],
      "metadata": {
        "id": "lAX3lU6tUTMY"
      },
      "execution_count": null,
      "outputs": []
    },
    {
      "cell_type": "markdown",
      "source": [
        "a=5\n",
        "b=9\n",
        "sum=a+b\n",
        "print(sum)"
      ],
      "metadata": {
        "id": "J2vYr8neUVde"
      }
    },
    {
      "cell_type": "code",
      "source": [
        "a=5\n",
        "b=9\n",
        "sum=a+b\n",
        "print(sum)"
      ],
      "metadata": {
        "colab": {
          "base_uri": "https://localhost:8080/"
        },
        "id": "ylk7UySBU97j",
        "outputId": "a5001034-8fac-471c-eb51-9b37fa9e6a89"
      },
      "execution_count": null,
      "outputs": [
        {
          "output_type": "stream",
          "name": "stdout",
          "text": [
            "14\n"
          ]
        }
      ]
    },
    {
      "cell_type": "code",
      "source": [
        "a=5\n",
        "b=9\n",
        "sum=a+b\n",
        "print(sum)\n"
      ],
      "metadata": {
        "colab": {
          "base_uri": "https://localhost:8080/"
        },
        "id": "x808BhQfVbSr",
        "outputId": "69edd221-8008-4975-fda8-b03516566cef"
      },
      "execution_count": null,
      "outputs": [
        {
          "output_type": "stream",
          "name": "stdout",
          "text": [
            "14\n"
          ]
        }
      ]
    },
    {
      "cell_type": "markdown",
      "source": [
        "ass1:substraction of 3 **numbers**"
      ],
      "metadata": {
        "id": "yG2-3RsnPZg1"
      }
    },
    {
      "cell_type": "code",
      "source": [
        "a=7\n",
        "b=1\n",
        "c=3\n",
        "substract=(a-b-c)\n",
        "print(substract)\n"
      ],
      "metadata": {
        "colab": {
          "base_uri": "https://localhost:8080/"
        },
        "id": "5r46IjXuXUZZ",
        "outputId": "00ed7015-3751-4bf4-9f90-de3002841b9d"
      },
      "execution_count": null,
      "outputs": [
        {
          "output_type": "stream",
          "name": "stdout",
          "text": [
            "3\n"
          ]
        }
      ]
    },
    {
      "cell_type": "markdown",
      "source": [
        "ass1:substraction of 2 **numbers**"
      ],
      "metadata": {
        "id": "PawOj2v4PjaJ"
      }
    },
    {
      "cell_type": "code",
      "source": [
        "a=9\n",
        "b=10\n",
        "substract=(a-b)\n",
        "print(substract)"
      ],
      "metadata": {
        "colab": {
          "base_uri": "https://localhost:8080/"
        },
        "id": "IatBIkSyXY-S",
        "outputId": "03e26c89-d687-4e5b-bb3f-8fd55f0b312e"
      },
      "execution_count": null,
      "outputs": [
        {
          "output_type": "stream",
          "name": "stdout",
          "text": [
            "-1\n"
          ]
        }
      ]
    },
    {
      "cell_type": "markdown",
      "source": [
        "ass1:multiplication of 2 numbers"
      ],
      "metadata": {
        "id": "VxyP4nL0Pqe0"
      }
    },
    {
      "cell_type": "code",
      "source": [
        "p=3\n",
        "q=10\n",
        "mul=p*q\n",
        "print(mul)"
      ],
      "metadata": {
        "colab": {
          "base_uri": "https://localhost:8080/"
        },
        "id": "qxblO4BoXuzw",
        "outputId": "55d1d7f7-036b-4360-88b5-ccad2663c09b"
      },
      "execution_count": null,
      "outputs": [
        {
          "output_type": "stream",
          "name": "stdout",
          "text": [
            "30\n"
          ]
        }
      ]
    },
    {
      "cell_type": "markdown",
      "source": [
        "ass1:div"
      ],
      "metadata": {
        "id": "zLCovuXpPw6f"
      }
    },
    {
      "cell_type": "code",
      "source": [
        "p=9\n",
        "q=2\n",
        "div=p%q\n",
        "print(div)\n"
      ],
      "metadata": {
        "colab": {
          "base_uri": "https://localhost:8080/"
        },
        "id": "KQdIU8d-Xzvg",
        "outputId": "8b9c869c-b833-4767-fb8d-9c1443b839d3"
      },
      "execution_count": null,
      "outputs": [
        {
          "output_type": "stream",
          "name": "stdout",
          "text": [
            "1\n"
          ]
        }
      ]
    },
    {
      "cell_type": "markdown",
      "source": [
        "ass1:quotient and remainder"
      ],
      "metadata": {
        "id": "jI1SgPJUPznF"
      }
    },
    {
      "cell_type": "code",
      "source": [
        "p=9\n",
        "q=2\n",
        "rem=p%q\n",
        "print(rem)\n",
        "quo=p//q\n",
        "print(quo)"
      ],
      "metadata": {
        "colab": {
          "base_uri": "https://localhost:8080/"
        },
        "id": "OCL9TWbiYCcR",
        "outputId": "9f241c43-d8ce-4850-8972-01f35e66e26e"
      },
      "execution_count": null,
      "outputs": [
        {
          "output_type": "stream",
          "name": "stdout",
          "text": [
            "1\n",
            "4\n"
          ]
        }
      ]
    },
    {
      "cell_type": "markdown",
      "source": [
        "ass1:squaring"
      ],
      "metadata": {
        "id": "wdrKtK8lP5C4"
      }
    },
    {
      "cell_type": "code",
      "source": [
        "p=2\n",
        "q=3\n",
        "sq1=p*p\n",
        "sq2=q*q\n",
        "print(\"square  of p is\")\n",
        "print(sq1)\n",
        "print(\"square  of q is\")\n",
        "print(sq2)"
      ],
      "metadata": {
        "colab": {
          "base_uri": "https://localhost:8080/"
        },
        "id": "1-1oHyXYYgGf",
        "outputId": "c74b8e50-c526-4122-c922-510070bacf67"
      },
      "execution_count": null,
      "outputs": [
        {
          "output_type": "stream",
          "name": "stdout",
          "text": [
            "square  of p is\n",
            "4\n",
            "square  of q is\n",
            "9\n"
          ]
        }
      ]
    },
    {
      "cell_type": "markdown",
      "source": [
        "ass1:sqrt"
      ],
      "metadata": {
        "id": "sJBy__cbP9t4"
      }
    },
    {
      "cell_type": "code",
      "source": [
        "p=16\n",
        "import math\n",
        "sq=math.sqrt(p)\n",
        "print(sq)"
      ],
      "metadata": {
        "colab": {
          "base_uri": "https://localhost:8080/"
        },
        "id": "knRmazKOaAwA",
        "outputId": "db0f5c02-3c21-4434-a817-ed88318da81b"
      },
      "execution_count": null,
      "outputs": [
        {
          "output_type": "stream",
          "name": "stdout",
          "text": [
            "4.0\n"
          ]
        }
      ]
    },
    {
      "cell_type": "code",
      "source": [
        "name=\"soupy and guppi\"\n",
        "print(type(name))"
      ],
      "metadata": {
        "colab": {
          "base_uri": "https://localhost:8080/"
        },
        "id": "LvtWZLLSdTxT",
        "outputId": "dff19bdc-1a82-48a9-b2dc-59e4ccfcb1cf"
      },
      "execution_count": null,
      "outputs": [
        {
          "output_type": "stream",
          "name": "stdout",
          "text": [
            "<class 'str'>\n"
          ]
        }
      ]
    },
    {
      "cell_type": "code",
      "source": [
        "lis=['kau','123','30.45']\n",
        "type(lis)\n",
        "print(lis)"
      ],
      "metadata": {
        "colab": {
          "base_uri": "https://localhost:8080/"
        },
        "id": "EeZNJZZFiRQ8",
        "outputId": "d7b27d6c-f09c-4a6d-86e4-e8a9c018b7d4"
      },
      "execution_count": null,
      "outputs": [
        {
          "output_type": "stream",
          "name": "stdout",
          "text": [
            "['kau', '123', '30.45']\n"
          ]
        }
      ]
    },
    {
      "cell_type": "code",
      "source": [
        "lis=['2','123','spoo']\n",
        "print(len(lis))"
      ],
      "metadata": {
        "colab": {
          "base_uri": "https://localhost:8080/"
        },
        "id": "G3cdJuUGiXwW",
        "outputId": "715607d3-519c-444c-84e0-0fe41902c828"
      },
      "execution_count": null,
      "outputs": [
        {
          "output_type": "stream",
          "name": "stdout",
          "text": [
            "3\n"
          ]
        }
      ]
    },
    {
      "cell_type": "code",
      "source": [
        "p=9\n",
        "l=8\n",
        "k=8\n",
        "add=p+l+k\n",
        "print(add)"
      ],
      "metadata": {
        "colab": {
          "base_uri": "https://localhost:8080/"
        },
        "id": "tKJ2QJPbjGUe",
        "outputId": "2a01315b-5d99-4672-9171-3edd7c1a64f8"
      },
      "execution_count": null,
      "outputs": [
        {
          "output_type": "stream",
          "name": "stdout",
          "text": [
            "25\n"
          ]
        }
      ]
    },
    {
      "cell_type": "code",
      "source": [
        "s=['1','erf',]\n",
        "print(len(s))"
      ],
      "metadata": {
        "id": "pvrI8r8ckTi7",
        "colab": {
          "base_uri": "https://localhost:8080/"
        },
        "outputId": "d9306448-53f4-4246-fd64-e652b7d33a06"
      },
      "execution_count": null,
      "outputs": [
        {
          "output_type": "stream",
          "name": "stdout",
          "text": [
            "2\n"
          ]
        }
      ]
    },
    {
      "cell_type": "code",
      "source": [
        "s=['eds','wsd']\n",
        "print(s)"
      ],
      "metadata": {
        "colab": {
          "base_uri": "https://localhost:8080/"
        },
        "id": "Lfuaoh4kOF--",
        "outputId": "6cc51101-66cc-479f-cb50-56c93f07a53b"
      },
      "execution_count": null,
      "outputs": [
        {
          "output_type": "stream",
          "name": "stdout",
          "text": [
            "['eds', 'wsd']\n"
          ]
        }
      ]
    },
    {
      "cell_type": "code",
      "source": [
        "num1=2.33\n",
        "num2=-234\n",
        "num3=1j\n",
        "num4=2\n",
        "print(type(num1))\n",
        "print(type(num2))\n",
        "print(type(num3))\n",
        "print(type(num4))"
      ],
      "metadata": {
        "colab": {
          "base_uri": "https://localhost:8080/"
        },
        "id": "CKchsoqzOXQD",
        "outputId": "4267264f-af5e-427e-eb0a-7aa65ac4deb2"
      },
      "execution_count": null,
      "outputs": [
        {
          "output_type": "stream",
          "name": "stdout",
          "text": [
            "<class 'float'>\n",
            "<class 'int'>\n",
            "<class 'complex'>\n",
            "<class 'int'>\n"
          ]
        }
      ]
    },
    {
      "cell_type": "code",
      "source": [
        "s=['2.3','-23','2j','2']\n",
        "print(type(s))"
      ],
      "metadata": {
        "colab": {
          "base_uri": "https://localhost:8080/"
        },
        "id": "XusHMCYdOqii",
        "outputId": "9ad4b42e-baa4-49df-b4b4-204eb50e87fc"
      },
      "execution_count": null,
      "outputs": [
        {
          "output_type": "stream",
          "name": "stdout",
          "text": [
            "<class 'list'>\n"
          ]
        }
      ]
    },
    {
      "cell_type": "code",
      "source": [
        "print(type(list))"
      ],
      "metadata": {
        "colab": {
          "base_uri": "https://localhost:8080/"
        },
        "id": "qwdJtJESO6Kd",
        "outputId": "48ce2407-a129-40b4-ce7a-c7b1641a6ccd"
      },
      "execution_count": null,
      "outputs": [
        {
          "output_type": "stream",
          "name": "stdout",
          "text": [
            "<class 'type'>\n"
          ]
        }
      ]
    },
    {
      "cell_type": "code",
      "source": [
        "lis2=['me','you','1','2']\n",
        "lis2"
      ],
      "metadata": {
        "colab": {
          "base_uri": "https://localhost:8080/"
        },
        "id": "R7Fc11LEO_YB",
        "outputId": "cddd7eea-8e41-4c68-b352-4c07f6f71b52"
      },
      "execution_count": null,
      "outputs": [
        {
          "output_type": "execute_result",
          "data": {
            "text/plain": [
              "['me', 'you', '1', '2']"
            ]
          },
          "metadata": {},
          "execution_count": 6
        }
      ]
    },
    {
      "cell_type": "code",
      "source": [
        "lis2.append(\"spoo\")\n",
        "lis2"
      ],
      "metadata": {
        "colab": {
          "base_uri": "https://localhost:8080/"
        },
        "id": "Xe3JqDmaRZbz",
        "outputId": "1d5626b7-43e5-4d73-f62b-137d7aa76abc"
      },
      "execution_count": null,
      "outputs": [
        {
          "output_type": "execute_result",
          "data": {
            "text/plain": [
              "['me', 'you', '1', '2', 'spoo']"
            ]
          },
          "metadata": {},
          "execution_count": 8
        }
      ]
    },
    {
      "cell_type": "code",
      "source": [
        "lis2.clear()"
      ],
      "metadata": {
        "id": "hRFSJp00RdMH"
      },
      "execution_count": null,
      "outputs": []
    },
    {
      "cell_type": "code",
      "source": [
        "lis2"
      ],
      "metadata": {
        "colab": {
          "base_uri": "https://localhost:8080/"
        },
        "id": "UL34PfPCRlca",
        "outputId": "ba6657fd-1c49-4f1e-9f5c-ef2524db7295"
      },
      "execution_count": null,
      "outputs": [
        {
          "output_type": "execute_result",
          "data": {
            "text/plain": [
              "[]"
            ]
          },
          "metadata": {},
          "execution_count": 10
        }
      ]
    },
    {
      "cell_type": "code",
      "source": [
        "lis2=['me','you','1','2']\n",
        "lis2"
      ],
      "metadata": {
        "colab": {
          "base_uri": "https://localhost:8080/"
        },
        "id": "X29epAn8Rmwt",
        "outputId": "9213b816-7567-40ab-aaa1-dae0483bb374"
      },
      "execution_count": null,
      "outputs": [
        {
          "output_type": "execute_result",
          "data": {
            "text/plain": [
              "['me', 'you', '1', '2']"
            ]
          },
          "metadata": {},
          "execution_count": 11
        }
      ]
    },
    {
      "cell_type": "code",
      "source": [
        "lis2[3]"
      ],
      "metadata": {
        "colab": {
          "base_uri": "https://localhost:8080/",
          "height": 35
        },
        "id": "_ZSFKH5VR3GQ",
        "outputId": "8e9b4d7d-047a-456d-886e-6f8a77a4e38d"
      },
      "execution_count": null,
      "outputs": [
        {
          "output_type": "execute_result",
          "data": {
            "text/plain": [
              "'2'"
            ],
            "application/vnd.google.colaboratory.intrinsic+json": {
              "type": "string"
            }
          },
          "metadata": {},
          "execution_count": 12
        }
      ]
    },
    {
      "cell_type": "code",
      "source": [
        "lis2.sort()\n",
        "lis2"
      ],
      "metadata": {
        "colab": {
          "base_uri": "https://localhost:8080/"
        },
        "id": "bOGsw3vgSNv7",
        "outputId": "e7e9d3e6-9372-47cd-ca32-d6cc5e9745b9"
      },
      "execution_count": null,
      "outputs": [
        {
          "output_type": "execute_result",
          "data": {
            "text/plain": [
              "['1', '2', 'me', 'you']"
            ]
          },
          "metadata": {},
          "execution_count": 14
        }
      ]
    },
    {
      "cell_type": "code",
      "source": [
        "tuple1=((1,2,3))\n",
        "print(type(tuple1))"
      ],
      "metadata": {
        "colab": {
          "base_uri": "https://localhost:8080/"
        },
        "id": "JOKVmwNNSScu",
        "outputId": "1f85653e-2723-49ae-f016-7227845b3172"
      },
      "execution_count": null,
      "outputs": [
        {
          "output_type": "stream",
          "name": "stdout",
          "text": [
            "<class 'tuple'>\n"
          ]
        }
      ]
    },
    {
      "cell_type": "code",
      "source": [
        "tuple1=(\"1\",\"2\",\"3\")\n",
        "print(tuple1[1])"
      ],
      "metadata": {
        "id": "Azre0es_gjCM",
        "colab": {
          "base_uri": "https://localhost:8080/"
        },
        "outputId": "99978021-1475-44aa-905c-65a63174916e"
      },
      "execution_count": null,
      "outputs": [
        {
          "output_type": "stream",
          "name": "stdout",
          "text": [
            "2\n"
          ]
        }
      ]
    },
    {
      "cell_type": "code",
      "source": [
        "tuple7=tuple1*8\n",
        "print(tuple7)"
      ],
      "metadata": {
        "colab": {
          "base_uri": "https://localhost:8080/"
        },
        "id": "RLEii58KJ5nr",
        "outputId": "65d699be-6ec6-494e-e802-c5bd57449e7e"
      },
      "execution_count": null,
      "outputs": [
        {
          "output_type": "stream",
          "name": "stdout",
          "text": [
            "('1', '2', '3', '1', '2', '3', '1', '2', '3', '1', '2', '3', '1', '2', '3', '1', '2', '3', '1', '2', '3', '1', '2', '3')\n"
          ]
        }
      ]
    },
    {
      "cell_type": "code",
      "source": [
        "x=tuple7.count('2')\n",
        "print(x)"
      ],
      "metadata": {
        "colab": {
          "base_uri": "https://localhost:8080/"
        },
        "id": "FxPnZabxKFuU",
        "outputId": "1d11a625-5ea1-43f3-ba0d-d4b9682b1a84"
      },
      "execution_count": null,
      "outputs": [
        {
          "output_type": "stream",
          "name": "stdout",
          "text": [
            "8\n"
          ]
        }
      ]
    },
    {
      "cell_type": "code",
      "source": [
        "x=(\"hubli\",\"bel\",\"banglore\")\n",
        "y=list(x)\n",
        "y.insert(1,\"spoo\")\n",
        "x=tuple(y)\n",
        "print(x)\n"
      ],
      "metadata": {
        "colab": {
          "base_uri": "https://localhost:8080/"
        },
        "id": "KvEv_TYZKRKG",
        "outputId": "1e6e6e57-b0d8-47e0-c17e-2ff448d5e88d"
      },
      "execution_count": null,
      "outputs": [
        {
          "output_type": "stream",
          "name": "stdout",
          "text": [
            "('hubli', 'spoo', 'bel', 'banglore')\n"
          ]
        }
      ]
    },
    {
      "cell_type": "code",
      "source": [
        "set1={\"1\",\"2\",\"3\"}\n",
        "set1.add(\"orange,5\")\n",
        "print(set1)\n",
        "set2={\"6\",\"7\",\"8\",\"9\"}\n",
        "set1.update(set2)\n",
        "print(set1)\n"
      ],
      "metadata": {
        "colab": {
          "base_uri": "https://localhost:8080/"
        },
        "id": "OZPThbZhMW79",
        "outputId": "554c9a07-ea68-4af0-9018-3f7022efc45d"
      },
      "execution_count": null,
      "outputs": [
        {
          "output_type": "stream",
          "name": "stdout",
          "text": [
            "{'orange,5', '2', '1', '3'}\n",
            "{'orange,5', '3', '8', '6', '7', '2', '9', '1'}\n"
          ]
        }
      ]
    },
    {
      "cell_type": "code",
      "source": [
        "dict1=dict(fruit=\"mango\")\n",
        "print(dict1)"
      ],
      "metadata": {
        "colab": {
          "base_uri": "https://localhost:8080/"
        },
        "id": "DgzYHHrkP8SJ",
        "outputId": "61151c16-acc9-4669-d808-7173f3fd3af8"
      },
      "execution_count": null,
      "outputs": [
        {
          "output_type": "stream",
          "name": "stdout",
          "text": [
            "{'fruit': 'mango'}\n"
          ]
        }
      ]
    },
    {
      "cell_type": "code",
      "source": [
        "dict2={\"name\":\"spoo\"}\n",
        "print(dict2)"
      ],
      "metadata": {
        "colab": {
          "base_uri": "https://localhost:8080/"
        },
        "id": "HtBlvY7QSgp-",
        "outputId": "d0839bbb-cd50-4961-babd-1f0df070e7e5"
      },
      "execution_count": null,
      "outputs": [
        {
          "output_type": "stream",
          "name": "stdout",
          "text": [
            "{'name': 'spoo'}\n"
          ]
        }
      ]
    },
    {
      "cell_type": "code",
      "source": [
        "a=input(\"enetr the value of a\")\n",
        "b=input(\"enetr the value of b\")\n",
        "print(a)\n",
        "print(b)"
      ],
      "metadata": {
        "colab": {
          "base_uri": "https://localhost:8080/"
        },
        "id": "Y9D6DM4ES_Eq",
        "outputId": "6a372aa4-d7b6-49ab-c195-8af88152b8d7"
      },
      "execution_count": null,
      "outputs": [
        {
          "output_type": "stream",
          "name": "stdout",
          "text": [
            "enetr the value of a3\n",
            "enetr the value of b7\n",
            "3\n",
            "7\n"
          ]
        }
      ]
    },
    {
      "cell_type": "code",
      "source": [
        "a=input(\"enetr the value of a\")\n",
        "b=input(\"enetr the value of b\")\n",
        "print(a)\n",
        "print(b)\n",
        "if a>b:\n",
        "  print(\"a is greater thn b\")\n",
        "if a==b:\n",
        "  print(\"a==b\")\n",
        "else:\n",
        "  print(\"a is less than b \")"
      ],
      "metadata": {
        "colab": {
          "base_uri": "https://localhost:8080/"
        },
        "id": "hAkWwkT5Ud_c",
        "outputId": "257d49e7-537a-492e-bb0b-65d90fdf7815"
      },
      "execution_count": null,
      "outputs": [
        {
          "output_type": "stream",
          "name": "stdout",
          "text": [
            "enetr the value of a8\n",
            "enetr the value of b9\n",
            "8\n",
            "9\n",
            "a is less than b \n"
          ]
        }
      ]
    },
    {
      "cell_type": "code",
      "source": [],
      "metadata": {
        "id": "AWa92HmHVUbS"
      },
      "execution_count": null,
      "outputs": []
    }
  ]
}