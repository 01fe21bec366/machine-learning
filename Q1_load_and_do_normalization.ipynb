{
  "nbformat": 4,
  "nbformat_minor": 0,
  "metadata": {
    "colab": {
      "provenance": [],
      "authorship_tag": "ABX9TyMakhKxG1RNZ75ucb80dKKz",
      "include_colab_link": true
    },
    "kernelspec": {
      "name": "python3",
      "display_name": "Python 3"
    },
    "language_info": {
      "name": "python"
    }
  },
  "cells": [
    {
      "cell_type": "markdown",
      "metadata": {
        "id": "view-in-github",
        "colab_type": "text"
      },
      "source": [
        "<a href=\"https://colab.research.google.com/github/01fe21bec366/machine-learning/blob/main/Q1_load_and_do_normalization.ipynb\" target=\"_parent\"><img src=\"https://colab.research.google.com/assets/colab-badge.svg\" alt=\"Open In Colab\"/></a>"
      ]
    },
    {
      "cell_type": "markdown",
      "source": [
        "load data from fileand normalization operation"
      ],
      "metadata": {
        "id": "iVCYtbHJ3jK0"
      }
    },
    {
      "cell_type": "code",
      "source": [],
      "metadata": {
        "id": "l-IqwEc9-H8D"
      },
      "execution_count": null,
      "outputs": []
    },
    {
      "cell_type": "code",
      "execution_count": 1,
      "metadata": {
        "id": "AFqn8CN2j0oN"
      },
      "outputs": [],
      "source": [
        "import numpy as np\n",
        "import pandas as pd\n",
        "from sklearn.preprocessing import MinMaxScaler\n"
      ]
    },
    {
      "cell_type": "code",
      "source": [
        "# Load the data from the CSV file\n",
        "data = pd.read_csv(\"/content/new1.csv\")\n",
        "\n",
        "# Separate features and target\n",
        "X = data.iloc[:, :-1]  # Features (all columns except the last one)\n",
        "y = data.iloc[:, -1]   # Target (last column)\n"
      ],
      "metadata": {
        "id": "F0nPWnMij5qH"
      },
      "execution_count": 2,
      "outputs": []
    },
    {
      "cell_type": "markdown",
      "source": [
        "Here, we'll use Min-Max scaling to normalize the features to the range [0, 1]"
      ],
      "metadata": {
        "id": "Q2C2GxbjCgpc"
      }
    },
    {
      "cell_type": "code",
      "source": [
        "# Initialize the MinMaxScaler\n",
        "scaler = MinMaxScaler()\n",
        "\n",
        "# Fit the scaler to the features and transform them\n",
        "X_normalized = scaler.fit_transform(X)\n"
      ],
      "metadata": {
        "id": "iUnFt-_w-Zfm"
      },
      "execution_count": 3,
      "outputs": []
    },
    {
      "cell_type": "code",
      "source": [
        "\n",
        "\n",
        "# Create a DataFrame with the normalized features\n",
        "normalized_data = pd.DataFrame(X_normalized, columns=X.columns)\n",
        "\n",
        "# Display the normalized data\n",
        "print(normalized_data)"
      ],
      "metadata": {
        "colab": {
          "base_uri": "https://localhost:8080/"
        },
        "id": "T-_DNDISZzKP",
        "outputId": "64b71ae5-6f0c-4b6c-c7cb-85ae381a969a"
      },
      "execution_count": 4,
      "outputs": [
        {
          "output_type": "stream",
          "name": "stdout",
          "text": [
            "   experience    salary\n",
            "0    0.000000  0.000000\n",
            "1    0.111111  0.108696\n",
            "2    0.222222  0.173913\n",
            "3    0.333333  0.217391\n",
            "4    0.444444  0.326087\n",
            "5    0.555556  0.391304\n",
            "6    0.666667  0.434783\n",
            "7    0.777778  0.869565\n",
            "8    0.888889  0.978261\n",
            "9    1.000000  1.000000\n"
          ]
        }
      ]
    },
    {
      "cell_type": "code",
      "source": [
        "import numpy as np\n",
        "import pandas as pd\n",
        "\n",
        "# Load the data from the CSV file\n",
        "data = pd.read_csv(\"/content/new1.csv\")\n",
        "\n",
        "# Separate features and target\n",
        "X = data.iloc[:, :-1]  # Features (all columns except the last one)\n",
        "y = data.iloc[:, -1]   # Target (last column)\n",
        "\n",
        "# Manual Min-Max scaling\n",
        "min_vals = X.min()\n",
        "max_vals = X.max()\n",
        "\n",
        "# Normalize the features\n",
        "X_normalized = (X - min_vals) / (max_vals - min_vals)\n",
        "\n",
        "# Create a DataFrame with the normalized features\n",
        "normalized_data = pd.DataFrame(X_normalized, columns=X.columns)\n",
        "\n",
        "# Display the normalized data\n",
        "print(normalized_data)"
      ],
      "metadata": {
        "colab": {
          "base_uri": "https://localhost:8080/"
        },
        "id": "o4IzNwkiCC5E",
        "outputId": "5e6cfcb7-8463-47e9-978b-027bd26723ae"
      },
      "execution_count": 5,
      "outputs": [
        {
          "output_type": "stream",
          "name": "stdout",
          "text": [
            "   experience    salary\n",
            "0    0.000000  0.000000\n",
            "1    0.111111  0.108696\n",
            "2    0.222222  0.173913\n",
            "3    0.333333  0.217391\n",
            "4    0.444444  0.326087\n",
            "5    0.555556  0.391304\n",
            "6    0.666667  0.434783\n",
            "7    0.777778  0.869565\n",
            "8    0.888889  0.978261\n",
            "9    1.000000  1.000000\n"
          ]
        }
      ]
    },
    {
      "cell_type": "code",
      "source": [],
      "metadata": {
        "id": "rcuoco6MDMwz"
      },
      "execution_count": null,
      "outputs": []
    }
  ]
}